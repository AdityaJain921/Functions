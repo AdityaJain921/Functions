{
  "nbformat": 4,
  "nbformat_minor": 0,
  "metadata": {
    "colab": {
      "provenance": []
    },
    "kernelspec": {
      "name": "python3",
      "display_name": "Python 3"
    },
    "language_info": {
      "name": "python"
    }
  },
  "cells": [
    {
      "cell_type": "markdown",
      "source": [
        "# FUNCTION ASSIGNMNET"
      ],
      "metadata": {
        "id": "RJzXF_5nbBbJ"
      }
    },
    {
      "cell_type": "markdown",
      "source": [
        "Question 1: What is the difference between a function and a method in Python?\n",
        "  \n",
        "  - A function is an independent block of code defined using def.\n",
        "  - A method is a function that belongs to an object and is called using dot notation.\n",
        "\n",
        "Question 2:  Explain the concept of function arguments and parameters in Python.\n",
        "\n",
        "  - Parameters are variables listed in a function definition, while arguments are the actual values passed to the function when it is called.\n",
        "For example: in def greet(name):, name is a parameter; in greet(\"Alice\"), \"Alice\" is the argument.\n",
        "\n",
        "Question 3: What are the different ways to define and call a function in Python?\n",
        "\n",
        "  - In Python, you can define a function using the def keyword, like def greet():, and call it using its name with parentheses, e.g., greet(). Functions can also take parameters, such as def add(a, b):, and be called with arguments like add(2, 3). You can define default parameters using def greet(name=\"Guest\"): and call it as greet() or greet(\"Alice\"). Functions can return values using the return keyword, like def square(x): return x * x, and be called with square(4). Python also supports lambda (anonymous) functions, e.g., square = lambda x: x * x, which you can call like square(5).\n",
        "\n",
        "Question 4: What is the purpose of the `return` statement in a Python function?\n",
        "\n",
        "  - The return statement in a Python function is used to send a value back to the caller. It ends the function's execution and provides the result that can be stored or used elsewhere in the program.\n",
        "\n",
        "Question 5:  What are iterators in Python and how do they differ from iterables?\n",
        "\n",
        "  - In Python, an iterable is any object that can be looped over (like lists, strings, tuples), while an iterator is an object that produces values one at a time using the __next__() method.\n",
        "\n",
        "  - You get an iterator from an iterable by using the iter() function, and use next() to get each item.\n",
        "\n",
        "Question 6:  Explain the concept of generators in Python and how they are defined.\n",
        "\n",
        "  - Generators are special functions that yield values one at a time using the `yield` keyword.  \n",
        "  - They are defined like normal functions but use `yield` instead of `return`.  \n",
        "  - Generators are memory-efficient and return an iterator object.  \n",
        "  - Example:  \n",
        "    ```python\n",
        "    def gen():  \n",
        "      yield 1  \n",
        "      yield 2  \n",
        "    ```\n",
        "\n",
        "Question 7: What are the advantages of using generators over regular functions?\n",
        "\n",
        "  -  Generators use less memory as they yield items one at a time instead of storing them all at once.  \n",
        "  - They are faster for large datasets because they generate values lazily (on demand).  \n",
        "  - Ideal for working with **infinite sequences or large files**.  \n",
        "  - Code using `yield` is **simpler and cleaner** than managing iterator state manually.\n",
        "\n",
        "Question 8: What is a lambda function in Python and when is it typically used?\n",
        "\n",
        "  - A **lambda function** in Python is an anonymous, one-line function defined using the `lambda` keyword.  \n",
        "It is typically used for **short, simple operations**, especially as arguments to functions like `map()`, `filter()`, or `sorted()`.  \n",
        "\n",
        "  Example:  \n",
        "  ```python\n",
        "  square = lambda x: x * x  \n",
        "  print(square(5))  # Output: 25\n",
        "  ```\n",
        "\n",
        "Question 9: Explain the purpose and usage of the `map()` function in Python.\n",
        "\n",
        "  - The `map()` function in Python is used to apply a function to **each item** in an iterable (like a list).  \n",
        "It returns a map object (an iterator), which can be converted to a list or used in a loop.\n",
        "\n",
        "  **Syntax:** `map(function, iterable)`  \n",
        "  **Example:**  \n",
        "  ```python\n",
        "  nums = [1, 2, 3, 4]\n",
        "  squared = list(map(lambda x: x*x, nums))\n",
        "  print(squared)  # Output: [1, 4, 9, 16]\n",
        "  ```\n",
        "\n",
        "Question 10: What is the difference between `map()`, `reduce()`, and `filter()` functions in Python?\n",
        "\n",
        "  - map() applies a function to each element in an iterable and returns a new iterable.\n",
        "\n",
        "  - filter() applies a function to filter elements based on a condition (returns only those where the function returns True).\n",
        "\n",
        "  - reduce() applies a function to pairwise combine elements into a single result (from functools module).\n",
        "\n",
        "Question 11: Using pen & Paper write the internal mechanism for sum operation using  reduce function on this given\n",
        "list:[47,11,42,13];\n",
        "\n",
        "  - Link of the image: https://drive.google.com/file/d/1Gm42fHSN9UWpONayUn9xcDtcUrQh4PKn/view?usp=sharing\n"
      ],
      "metadata": {
        "id": "Hj9jXXL4w_r7"
      }
    },
    {
      "cell_type": "markdown",
      "source": [
        "Question 1:  Write a Python function that takes a list of numbers as input and returns the sum of all even numbers in\n",
        "the list."
      ],
      "metadata": {
        "id": "BiTYSmhdbBsk"
      }
    },
    {
      "cell_type": "code",
      "source": [
        "def sum_of_evens(numbers):\n",
        "    total = 0\n",
        "    for num in numbers:\n",
        "        if num % 2 == 0:\n",
        "            total += num\n",
        "    return total\n",
        "\n",
        "# Example usage:\n",
        "my_list = [1, 2, 3, 4, 5, 6]\n",
        "print(\"Sum of even numbers:\", sum_of_evens(my_list))"
      ],
      "metadata": {
        "colab": {
          "base_uri": "https://localhost:8080/"
        },
        "id": "iACb1gQLx_wR",
        "outputId": "27e8491a-67e3-4e24-936f-0b5f2cb7609f"
      },
      "execution_count": 1,
      "outputs": [
        {
          "output_type": "stream",
          "name": "stdout",
          "text": [
            "Sum of even numbers: 12\n"
          ]
        }
      ]
    },
    {
      "cell_type": "markdown",
      "source": [
        "Question 2:  Create a Python function that accepts a string and returns the reverse of that string."
      ],
      "metadata": {
        "id": "PodL7T8fv0IZ"
      }
    },
    {
      "cell_type": "code",
      "source": [
        "def reverse_string(text):\n",
        "    return text[::-1]\n",
        "\n",
        "# Example usage:\n",
        "input_str = \"hello\"\n",
        "print(\"Reversed string:\", reverse_string(input_str))\n"
      ],
      "metadata": {
        "colab": {
          "base_uri": "https://localhost:8080/"
        },
        "id": "-pB0BS7cyVlg",
        "outputId": "dc9a2df2-734d-4e62-8bba-70e82465b293"
      },
      "execution_count": 2,
      "outputs": [
        {
          "output_type": "stream",
          "name": "stdout",
          "text": [
            "Reversed string: olleh\n"
          ]
        }
      ]
    },
    {
      "cell_type": "markdown",
      "source": [
        "Question 3:  Implement a Python function that takes a list of integers and returns a new list containing the squares of\n",
        "each number."
      ],
      "metadata": {
        "id": "tm8M5DfWyaPa"
      }
    },
    {
      "cell_type": "code",
      "source": [
        "def square_list(numbers):\n",
        "    return [x**2 for x in numbers]\n",
        "\n",
        "# Example usage:\n",
        "nums = [1, 2, 3, 4, 5]\n",
        "print(\"Squared list:\", square_list(nums))\n"
      ],
      "metadata": {
        "colab": {
          "base_uri": "https://localhost:8080/"
        },
        "id": "7hKLVsa7yWAn",
        "outputId": "c212a690-fb19-40a6-c05d-453e121c18f5"
      },
      "execution_count": 3,
      "outputs": [
        {
          "output_type": "stream",
          "name": "stdout",
          "text": [
            "Squared list: [1, 4, 9, 16, 25]\n"
          ]
        }
      ]
    },
    {
      "cell_type": "markdown",
      "source": [
        "Question 4: Write a Python function that checks if a given number is prime or not from 1 to 200."
      ],
      "metadata": {
        "id": "tb0sthi9y32D"
      }
    },
    {
      "cell_type": "code",
      "source": [
        " def is_prime(n):\n",
        "    if n <= 1:\n",
        "        return False\n",
        "    for i in range(2, int(n**0.5) + 1):\n",
        "        if n % i == 0:\n",
        "            return False\n",
        "    return True\n",
        "\n",
        "# Example usage:\n",
        "for num in range(1, 201):\n",
        "    if is_prime(num):\n",
        "        print(num, \"is a prime number\")\n"
      ],
      "metadata": {
        "colab": {
          "base_uri": "https://localhost:8080/"
        },
        "id": "iHy1HzTty2LA",
        "outputId": "af410ba3-23fb-4f6e-b7ab-afc1c5e15481"
      },
      "execution_count": 4,
      "outputs": [
        {
          "output_type": "stream",
          "name": "stdout",
          "text": [
            "2 is a prime number\n",
            "3 is a prime number\n",
            "5 is a prime number\n",
            "7 is a prime number\n",
            "11 is a prime number\n",
            "13 is a prime number\n",
            "17 is a prime number\n",
            "19 is a prime number\n",
            "23 is a prime number\n",
            "29 is a prime number\n",
            "31 is a prime number\n",
            "37 is a prime number\n",
            "41 is a prime number\n",
            "43 is a prime number\n",
            "47 is a prime number\n",
            "53 is a prime number\n",
            "59 is a prime number\n",
            "61 is a prime number\n",
            "67 is a prime number\n",
            "71 is a prime number\n",
            "73 is a prime number\n",
            "79 is a prime number\n",
            "83 is a prime number\n",
            "89 is a prime number\n",
            "97 is a prime number\n",
            "101 is a prime number\n",
            "103 is a prime number\n",
            "107 is a prime number\n",
            "109 is a prime number\n",
            "113 is a prime number\n",
            "127 is a prime number\n",
            "131 is a prime number\n",
            "137 is a prime number\n",
            "139 is a prime number\n",
            "149 is a prime number\n",
            "151 is a prime number\n",
            "157 is a prime number\n",
            "163 is a prime number\n",
            "167 is a prime number\n",
            "173 is a prime number\n",
            "179 is a prime number\n",
            "181 is a prime number\n",
            "191 is a prime number\n",
            "193 is a prime number\n",
            "197 is a prime number\n",
            "199 is a prime number\n"
          ]
        }
      ]
    },
    {
      "cell_type": "markdown",
      "source": [
        "Question 5: Create an iterator class in Python that generates the Fibonacci sequence up to a specified number of terms."
      ],
      "metadata": {
        "id": "fBCkqx58zYBS"
      }
    },
    {
      "cell_type": "code",
      "source": [
        "class Fibonacci:\n",
        "    def __init__(self, n_terms):\n",
        "        self.n_terms = n_terms\n",
        "        self.count = 0\n",
        "        self.a, self.b = 0, 1\n",
        "\n",
        "    def __iter__(self):\n",
        "        return self\n",
        "\n",
        "    def __next__(self):\n",
        "        if self.count < self.n_terms:\n",
        "            result = self.a\n",
        "            self.a, self.b = self.b, self.a + self.b\n",
        "            self.count += 1\n",
        "            return result\n",
        "        else:\n",
        "            raise StopIteration\n",
        "\n",
        "# Example usage:\n",
        "fib = Fibonacci(10)\n",
        "for num in fib:\n",
        "    print(num)\n"
      ],
      "metadata": {
        "colab": {
          "base_uri": "https://localhost:8080/"
        },
        "id": "ElJHAdtyzU99",
        "outputId": "3d23183e-9218-4ec2-b57d-415c10868be4"
      },
      "execution_count": 5,
      "outputs": [
        {
          "output_type": "stream",
          "name": "stdout",
          "text": [
            "0\n",
            "1\n",
            "1\n",
            "2\n",
            "3\n",
            "5\n",
            "8\n",
            "13\n",
            "21\n",
            "34\n"
          ]
        }
      ]
    },
    {
      "cell_type": "markdown",
      "source": [
        "Question 6: Write a generator function in Python that yields the powers of 2 up to a given exponent."
      ],
      "metadata": {
        "id": "XU4EXii80bPJ"
      }
    },
    {
      "cell_type": "code",
      "source": [
        "def powers_of_two(max_exp):\n",
        "    for i in range(max_exp + 1):\n",
        "        yield 2 ** i\n",
        "\n",
        "# Example: Print powers of 2 up to 2^5\n",
        "for num in powers_of_two(5):\n",
        "    print(num)\n"
      ],
      "metadata": {
        "colab": {
          "base_uri": "https://localhost:8080/"
        },
        "id": "ylnFAbzY0NK9",
        "outputId": "fed5eb1b-825a-499f-e427-f73225a2e0df"
      },
      "execution_count": 6,
      "outputs": [
        {
          "output_type": "stream",
          "name": "stdout",
          "text": [
            "1\n",
            "2\n",
            "4\n",
            "8\n",
            "16\n",
            "32\n"
          ]
        }
      ]
    },
    {
      "cell_type": "markdown",
      "source": [
        "Question 7: Implement a generator function that reads a file line by line and yields each line as a string."
      ],
      "metadata": {
        "id": "-yVBuc3s0d1z"
      }
    },
    {
      "cell_type": "code",
      "source": [
        "def read_lines(filename):\n",
        "    with open(filename, 'r') as file:\n",
        "        for line in file:\n",
        "            yield line.strip()  # .strip() removes leading/trailing whitespace\n",
        "\n",
        "# Example usage:\n",
        "for line in read_lines(\"sample.txt\"):\n",
        "    print(line)"
      ],
      "metadata": {
        "id": "0qLdX0e61Ovh"
      },
      "execution_count": null,
      "outputs": []
    },
    {
      "cell_type": "markdown",
      "source": [
        "Question 8: Use a lambda function in Python to sort a list of tuples based on the second element of each tuple."
      ],
      "metadata": {
        "id": "Gih895g00fjK"
      }
    },
    {
      "cell_type": "code",
      "source": [
        "# List of tuples\n",
        "data = [(1, 4), (3, 1), (5, 2), (2, 3)]\n",
        "\n",
        "# Sort based on the second element using lambda\n",
        "sorted_data = sorted(data, key=lambda x: x[1])\n",
        "\n",
        "print(sorted_data)\n"
      ],
      "metadata": {
        "colab": {
          "base_uri": "https://localhost:8080/"
        },
        "id": "tUEgvlI10ep3",
        "outputId": "892dda7b-2a99-4042-e190-676cb74b88f1"
      },
      "execution_count": 8,
      "outputs": [
        {
          "output_type": "stream",
          "name": "stdout",
          "text": [
            "[(3, 1), (5, 2), (2, 3), (1, 4)]\n"
          ]
        }
      ]
    },
    {
      "cell_type": "markdown",
      "source": [
        "Question 9: Write a Python program that uses `map()` to convert a list of temperatures from Celsius to Fahrenheit."
      ],
      "metadata": {
        "id": "0ukMt8gn0gns"
      }
    },
    {
      "cell_type": "code",
      "source": [
        "# List of temperatures in Celsius\n",
        "celsius = [0, 10, 20, 30, 40]\n",
        "\n",
        "# Function to convert to Fahrenheit\n",
        "def to_fahrenheit(c):\n",
        "    return (c * 9/5) + 32\n",
        "\n",
        "# Using map() to convert all values\n",
        "fahrenheit = list(map(to_fahrenheit, celsius))\n",
        "\n",
        "print(\"Fahrenheit:\", fahrenheit)\n"
      ],
      "metadata": {
        "colab": {
          "base_uri": "https://localhost:8080/"
        },
        "id": "S6fHFqfQ0hGH",
        "outputId": "d62e2eee-21cb-4e98-978c-99e0827ced61"
      },
      "execution_count": 13,
      "outputs": [
        {
          "output_type": "stream",
          "name": "stdout",
          "text": [
            "Fahrenheit: [32.0, 50.0, 68.0, 86.0, 104.0]\n"
          ]
        }
      ]
    },
    {
      "cell_type": "markdown",
      "source": [
        "Question 10: Create a Python program that uses `filter()` to remove all the vowels from a given string."
      ],
      "metadata": {
        "id": "gQ-pTUfA0hb2"
      }
    },
    {
      "cell_type": "code",
      "source": [
        "def remove_vowels(s):\n",
        "    vowels = 'aeiouAEIOU'\n",
        "    return ''.join(filter(lambda ch: ch not in vowels, s))\n",
        "\n",
        "# Example usage\n",
        "text = \"Hello World\"\n",
        "result = remove_vowels(text)\n",
        "print(\"Without vowels:\", result)\n",
        "\n"
      ],
      "metadata": {
        "colab": {
          "base_uri": "https://localhost:8080/"
        },
        "id": "dtEUpnq30hxD",
        "outputId": "922df3a0-bf8c-408a-f1dd-29edc6d63266"
      },
      "execution_count": 22,
      "outputs": [
        {
          "output_type": "stream",
          "name": "stdout",
          "text": [
            "Without vowels: Hll Wrld\n"
          ]
        }
      ]
    },
    {
      "cell_type": "markdown",
      "source": [
        "Question 11:  Imagine an accounting routine used in a book shop. It works on a list with sublists, which look like this:\n",
        "\n",
        "\n",
        "\n",
        "\n",
        "\n",
        "\n",
        "\n",
        "Write a Python program, which returns a list with 2-tuples. Each tuple consists of the order number and the\n",
        "product of the price per item and the quantity. The product should be increased by 10,- € if the value of the\n",
        "order is smaller than 100,00 €.\n",
        "\n",
        "Write a Python program using lambda and map."
      ],
      "metadata": {
        "id": "TXnL1udr2k82"
      }
    },
    {
      "cell_type": "code",
      "source": [
        "# Given data\n",
        "orders = [\n",
        "    (34587, \"Learning Python, Mark Lutz\", 4, 40.95),\n",
        "    (98762, \"Programming Python, Mark Lutz\", 5, 56.80),\n",
        "    (77226, \"Head First Python, Paul Barry\", 3, 32.95),\n",
        "    (88112, \"Einführung in Python3, Bernd Klein\", 3, 24.99)\n",
        "]\n",
        "\n",
        "# Using map() and lambda function to calculate total price\n",
        "updated_orders = list(map(lambda x: (x[0], x[2] * x[3] + (10 if x[2] * x[3] < 100 else 0)), orders))\n",
        "\n",
        "# Printing the result\n",
        "print(updated_orders)\n"
      ],
      "metadata": {
        "colab": {
          "base_uri": "https://localhost:8080/"
        },
        "id": "duAA-4I62NFM",
        "outputId": "1c5df6c4-ba5b-4fe5-822f-7d76c0ecf4f4"
      },
      "execution_count": 29,
      "outputs": [
        {
          "output_type": "stream",
          "name": "stdout",
          "text": [
            "[(34587, 163.8), (98762, 284.0), (77226, 108.85000000000001), (88112, 84.97)]\n"
          ]
        }
      ]
    },
    {
      "cell_type": "code",
      "source": [],
      "metadata": {
        "id": "VTs1A_YQ4BAo"
      },
      "execution_count": 29,
      "outputs": []
    }
  ]
}